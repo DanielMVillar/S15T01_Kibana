{
 "cells": [
  {
   "cell_type": "markdown",
   "id": "278138da",
   "metadata": {},
   "source": [
    "### Exercici 1 (Nivell 1)\n",
    "#### Descarrega't Kibana i mostra algunes gràfiques utilitzant conjunts de dades d'Exemple."
   ]
  },
  {
   "cell_type": "markdown",
   "id": "ede71ec7",
   "metadata": {},
   "source": [
    "The dataset has been extracted from:\n",
    "https://www.kaggle.com/datasets/binduvr/pro-mma-fighters\n",
    "\n",
    "This dataset contains all 5,151 MMA (mixed martial arts) fighters from the most importants MMA companies: the Ultimate Fighting Championship, Bellator MMA, and ONE Championship until 11 Aug, 2021.\n",
    "\n",
    "I have installed Kibana on my computer as a server, but in order to share my dashboard I'm using kibana online.\n",
    "This have the problem that is a trial version with only 14 days free use. Today (22-may) I have still 9 days left."
   ]
  },
  {
   "cell_type": "markdown",
   "id": "fdd86ab5",
   "metadata": {},
   "source": [
    "You can find my dashboard on this permalink:\n",
    "\n",
    "https://test-112b99.kb.us-central1.gcp.cloud.es.io:9243/app/r/s/prickly-wooden-man\n",
    "\n",
    "Just in case you can also find on the github a PDF report and a PNG image but they are not interactive."
   ]
  },
  {
   "cell_type": "markdown",
   "id": "b8e7e174",
   "metadata": {},
   "source": [
    "### Exercici 1 (Nivell 2)\n",
    "#### Implementa un dashboard que visualitzi interactivament les dades que triïs."
   ]
  },
  {
   "cell_type": "markdown",
   "id": "19a47bb4",
   "metadata": {},
   "source": [
    "To interact with the dashboard you can click on any graph in order to filter data."
   ]
  },
  {
   "cell_type": "markdown",
   "id": "09ba5f0a",
   "metadata": {},
   "source": [
    "### Exercici 1 (Nivell 3)\n",
    "#### Implementa un dashboard que generi gràfics utilitzant cadascun dels diferents tipus de gràfics que ofereix Kibana."
   ]
  },
  {
   "cell_type": "markdown",
   "id": "0688945a",
   "metadata": {},
   "source": [
    "I've used 6 different graphs:\n",
    "- Bar horizontal\n",
    "- Bar vertical\n",
    "- Treemap\n",
    "- Bar vertical stacked\n",
    "- Donut\n",
    "- Area"
   ]
  }
 ],
 "metadata": {
  "kernelspec": {
   "display_name": "Python 3 (ipykernel)",
   "language": "python",
   "name": "python3"
  },
  "language_info": {
   "codemirror_mode": {
    "name": "ipython",
    "version": 3
   },
   "file_extension": ".py",
   "mimetype": "text/x-python",
   "name": "python",
   "nbconvert_exporter": "python",
   "pygments_lexer": "ipython3",
   "version": "3.9.7"
  }
 },
 "nbformat": 4,
 "nbformat_minor": 5
}
